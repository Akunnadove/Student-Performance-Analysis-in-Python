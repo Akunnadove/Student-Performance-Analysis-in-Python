{
 "cells": [
  {
   "cell_type": "markdown",
   "id": "f6677274-59a8-4bc6-95ff-bb14c7dfb696",
   "metadata": {},
   "source": [
    "# Objective:\n",
    "To visualise factors that improve the performance of students\n",
    "\n",
    "# Key questions to be answered:\n",
    "Do test preparation courses and lunch improve on students performance?\n",
    "Which gender performs better on the average?\n",
    "Which race or ethnicity perform best on average?\n",
    "Does parental level of education affect students performance?\n",
    "Is there a relationship between math, reading and writing scores of students?\n",
    "What subject do students perform best in?\n",
    "# Dataset:\n",
    "* gender: Female and male genders\n",
    "* race/ethnicity: Contains different groups of race\n",
    "* parental level of education: Highest level of eduation attained by parents\n",
    "* lunch: Type of lunch taken by student\n",
    "* test preparation: Shows if student completed the test preparation or not\n",
    "* math_score: mathematics student score\n",
    "* reading_score: reading student score\n",
    "* writing_score: writing student score\n",
    "* average: average of maths, reading and writing scores"
   ]
  },
  {
   "cell_type": "markdown",
   "id": "5c9784a4-bfc0-4d8f-9cc2-122bc7386293",
   "metadata": {},
   "source": [
    "### Import the necessary packages - pandas, numpy, seaborn, matplotlib.pyplot"
   ]
  },
  {
   "cell_type": "code",
   "execution_count": 1,
   "id": "1eacb8ca-5276-40de-aeca-119b3b6cff60",
   "metadata": {
    "tags": []
   },
   "outputs": [],
   "source": [
    "import pandas as pd\n",
    "import numpy as np\n",
    "import seaborn as sns\n",
    "import matplotlib.pyplot as plt\n",
    "%matplotlib inline\n",
    "import warnings\n",
    "pd.set_option('display.float_format', lambda x: '%.5f' % x) # To supress numerical display in scientific notations"
   ]
  },
  {
   "cell_type": "markdown",
   "id": "434b8944-7f4d-423d-bb75-acf319f3b463",
   "metadata": {},
   "source": [
    "### Import dataset"
   ]
  },
  {
   "cell_type": "code",
   "execution_count": 2,
   "id": "aae5b6bc-ae7a-4bdf-aa1d-bb4af28dba7e",
   "metadata": {},
   "outputs": [],
   "source": [
    "student = pd.read_csv(r\"C:\\Users\\Akunna Anyamkpa\\Downloads\\Downloads\\StudentsPerformance - Copy.csv\")"
   ]
  },
  {
   "cell_type": "markdown",
   "id": "ce98a125-8e97-45a5-97d6-ff0e1fd69b83",
   "metadata": {},
   "source": [
    "### View the first few rows of the dataset"
   ]
  },
  {
   "cell_type": "code",
   "execution_count": 3,
   "id": "7990cf52-2386-4086-be0b-4464a0573c02",
   "metadata": {
    "tags": []
   },
   "outputs": [
    {
     "data": {
      "text/html": [
       "<div>\n",
       "<style scoped>\n",
       "    .dataframe tbody tr th:only-of-type {\n",
       "        vertical-align: middle;\n",
       "    }\n",
       "\n",
       "    .dataframe tbody tr th {\n",
       "        vertical-align: top;\n",
       "    }\n",
       "\n",
       "    .dataframe thead th {\n",
       "        text-align: right;\n",
       "    }\n",
       "</style>\n",
       "<table border=\"1\" class=\"dataframe\">\n",
       "  <thead>\n",
       "    <tr style=\"text-align: right;\">\n",
       "      <th></th>\n",
       "      <th>gender</th>\n",
       "      <th>race/ethnicity</th>\n",
       "      <th>parental level of education</th>\n",
       "      <th>lunch</th>\n",
       "      <th>test preparation course</th>\n",
       "      <th>math score</th>\n",
       "      <th>reading score</th>\n",
       "      <th>writing score</th>\n",
       "      <th>average</th>\n",
       "    </tr>\n",
       "  </thead>\n",
       "  <tbody>\n",
       "    <tr>\n",
       "      <th>0</th>\n",
       "      <td>female</td>\n",
       "      <td>group B</td>\n",
       "      <td>bachelor's degree</td>\n",
       "      <td>standard</td>\n",
       "      <td>none</td>\n",
       "      <td>72</td>\n",
       "      <td>72</td>\n",
       "      <td>74</td>\n",
       "      <td>73</td>\n",
       "    </tr>\n",
       "    <tr>\n",
       "      <th>1</th>\n",
       "      <td>female</td>\n",
       "      <td>group C</td>\n",
       "      <td>some college</td>\n",
       "      <td>standard</td>\n",
       "      <td>completed</td>\n",
       "      <td>69</td>\n",
       "      <td>90</td>\n",
       "      <td>88</td>\n",
       "      <td>82</td>\n",
       "    </tr>\n",
       "    <tr>\n",
       "      <th>2</th>\n",
       "      <td>female</td>\n",
       "      <td>group B</td>\n",
       "      <td>master's degree</td>\n",
       "      <td>standard</td>\n",
       "      <td>none</td>\n",
       "      <td>90</td>\n",
       "      <td>95</td>\n",
       "      <td>93</td>\n",
       "      <td>93</td>\n",
       "    </tr>\n",
       "    <tr>\n",
       "      <th>3</th>\n",
       "      <td>male</td>\n",
       "      <td>group A</td>\n",
       "      <td>associate's degree</td>\n",
       "      <td>free/reduced</td>\n",
       "      <td>none</td>\n",
       "      <td>47</td>\n",
       "      <td>57</td>\n",
       "      <td>44</td>\n",
       "      <td>49</td>\n",
       "    </tr>\n",
       "    <tr>\n",
       "      <th>4</th>\n",
       "      <td>male</td>\n",
       "      <td>group C</td>\n",
       "      <td>some college</td>\n",
       "      <td>standard</td>\n",
       "      <td>none</td>\n",
       "      <td>76</td>\n",
       "      <td>78</td>\n",
       "      <td>75</td>\n",
       "      <td>76</td>\n",
       "    </tr>\n",
       "    <tr>\n",
       "      <th>5</th>\n",
       "      <td>female</td>\n",
       "      <td>group B</td>\n",
       "      <td>associate's degree</td>\n",
       "      <td>standard</td>\n",
       "      <td>none</td>\n",
       "      <td>71</td>\n",
       "      <td>83</td>\n",
       "      <td>78</td>\n",
       "      <td>77</td>\n",
       "    </tr>\n",
       "    <tr>\n",
       "      <th>6</th>\n",
       "      <td>female</td>\n",
       "      <td>group B</td>\n",
       "      <td>some college</td>\n",
       "      <td>standard</td>\n",
       "      <td>completed</td>\n",
       "      <td>88</td>\n",
       "      <td>95</td>\n",
       "      <td>92</td>\n",
       "      <td>92</td>\n",
       "    </tr>\n",
       "    <tr>\n",
       "      <th>7</th>\n",
       "      <td>male</td>\n",
       "      <td>group B</td>\n",
       "      <td>some college</td>\n",
       "      <td>free/reduced</td>\n",
       "      <td>none</td>\n",
       "      <td>40</td>\n",
       "      <td>43</td>\n",
       "      <td>39</td>\n",
       "      <td>41</td>\n",
       "    </tr>\n",
       "    <tr>\n",
       "      <th>8</th>\n",
       "      <td>male</td>\n",
       "      <td>group D</td>\n",
       "      <td>high school</td>\n",
       "      <td>free/reduced</td>\n",
       "      <td>completed</td>\n",
       "      <td>64</td>\n",
       "      <td>64</td>\n",
       "      <td>67</td>\n",
       "      <td>65</td>\n",
       "    </tr>\n",
       "    <tr>\n",
       "      <th>9</th>\n",
       "      <td>female</td>\n",
       "      <td>group B</td>\n",
       "      <td>high school</td>\n",
       "      <td>free/reduced</td>\n",
       "      <td>none</td>\n",
       "      <td>38</td>\n",
       "      <td>60</td>\n",
       "      <td>50</td>\n",
       "      <td>49</td>\n",
       "    </tr>\n",
       "  </tbody>\n",
       "</table>\n",
       "</div>"
      ],
      "text/plain": [
       "   gender race/ethnicity parental level of education         lunch  \\\n",
       "0  female        group B           bachelor's degree      standard   \n",
       "1  female        group C                some college      standard   \n",
       "2  female        group B             master's degree      standard   \n",
       "3    male        group A          associate's degree  free/reduced   \n",
       "4    male        group C                some college      standard   \n",
       "5  female        group B          associate's degree      standard   \n",
       "6  female        group B                some college      standard   \n",
       "7    male        group B                some college  free/reduced   \n",
       "8    male        group D                 high school  free/reduced   \n",
       "9  female        group B                 high school  free/reduced   \n",
       "\n",
       "  test preparation course  math score  reading score  writing score  average  \n",
       "0                    none          72             72             74       73  \n",
       "1               completed          69             90             88       82  \n",
       "2                    none          90             95             93       93  \n",
       "3                    none          47             57             44       49  \n",
       "4                    none          76             78             75       76  \n",
       "5                    none          71             83             78       77  \n",
       "6               completed          88             95             92       92  \n",
       "7                    none          40             43             39       41  \n",
       "8               completed          64             64             67       65  \n",
       "9                    none          38             60             50       49  "
      ]
     },
     "execution_count": 3,
     "metadata": {},
     "output_type": "execute_result"
    }
   ],
   "source": [
    "student.head(10)"
   ]
  },
  {
   "cell_type": "markdown",
   "id": "d05d1581-2e2a-4583-b35b-8961c91d47ac",
   "metadata": {},
   "source": [
    "### Check the shape of the dataset"
   ]
  },
  {
   "cell_type": "code",
   "execution_count": 4,
   "id": "d5c6d0f7-c1c6-4f15-be41-9f3338be7c84",
   "metadata": {},
   "outputs": [
    {
     "data": {
      "text/plain": [
       "(1000, 9)"
      ]
     },
     "execution_count": 4,
     "metadata": {},
     "output_type": "execute_result"
    }
   ],
   "source": [
    "student.shape"
   ]
  },
  {
   "cell_type": "markdown",
   "id": "75e24f37-7955-4519-8f48-d5147c45eca5",
   "metadata": {},
   "source": [
    "### Check the datatypes of the dataset to ascertain that the data is read in properly"
   ]
  },
  {
   "cell_type": "code",
   "execution_count": 5,
   "id": "917cb20e-7d06-4c4f-ba56-2fb61022d5e0",
   "metadata": {},
   "outputs": [
    {
     "data": {
      "text/plain": [
       "gender                         object\n",
       "race/ethnicity                 object\n",
       "parental level of education    object\n",
       "lunch                          object\n",
       "test preparation course        object\n",
       "math score                      int64\n",
       "reading score                   int64\n",
       "writing score                   int64\n",
       "average                         int64\n",
       "dtype: object"
      ]
     },
     "execution_count": 5,
     "metadata": {},
     "output_type": "execute_result"
    }
   ],
   "source": [
    "student.dtypes"
   ]
  },
  {
   "cell_type": "markdown",
   "id": "6a1607af-0878-4081-ba04-f3e381af8846",
   "metadata": {},
   "source": [
    "### Remove all spaces in the various column names to aid analysis "
   ]
  },
  {
   "cell_type": "code",
   "execution_count": 6,
   "id": "91661995-1b30-4da9-967c-595c1744442f",
   "metadata": {},
   "outputs": [],
   "source": [
    "student.columns = student.columns.str.replace(' ','_')"
   ]
  },
  {
   "cell_type": "markdown",
   "id": "a09639b9-ec9f-4f34-81ff-f21bb65b4706",
   "metadata": {},
   "source": [
    "### Rename column names that contain symbols"
   ]
  },
  {
   "cell_type": "code",
   "execution_count": 7,
   "id": "308e9cbf-b519-42b8-8abd-e27f4c0fd717",
   "metadata": {},
   "outputs": [
    {
     "data": {
      "text/html": [
       "<div>\n",
       "<style scoped>\n",
       "    .dataframe tbody tr th:only-of-type {\n",
       "        vertical-align: middle;\n",
       "    }\n",
       "\n",
       "    .dataframe tbody tr th {\n",
       "        vertical-align: top;\n",
       "    }\n",
       "\n",
       "    .dataframe thead th {\n",
       "        text-align: right;\n",
       "    }\n",
       "</style>\n",
       "<table border=\"1\" class=\"dataframe\">\n",
       "  <thead>\n",
       "    <tr style=\"text-align: right;\">\n",
       "      <th></th>\n",
       "      <th>gender</th>\n",
       "      <th>race_ethnicity</th>\n",
       "      <th>parental_level_of_education</th>\n",
       "      <th>lunch</th>\n",
       "      <th>test_preparation_course</th>\n",
       "      <th>math_score</th>\n",
       "      <th>reading_score</th>\n",
       "      <th>writing_score</th>\n",
       "      <th>average</th>\n",
       "    </tr>\n",
       "  </thead>\n",
       "  <tbody>\n",
       "    <tr>\n",
       "      <th>0</th>\n",
       "      <td>female</td>\n",
       "      <td>group B</td>\n",
       "      <td>bachelor's degree</td>\n",
       "      <td>standard</td>\n",
       "      <td>none</td>\n",
       "      <td>72</td>\n",
       "      <td>72</td>\n",
       "      <td>74</td>\n",
       "      <td>73</td>\n",
       "    </tr>\n",
       "    <tr>\n",
       "      <th>1</th>\n",
       "      <td>female</td>\n",
       "      <td>group C</td>\n",
       "      <td>some college</td>\n",
       "      <td>standard</td>\n",
       "      <td>completed</td>\n",
       "      <td>69</td>\n",
       "      <td>90</td>\n",
       "      <td>88</td>\n",
       "      <td>82</td>\n",
       "    </tr>\n",
       "    <tr>\n",
       "      <th>2</th>\n",
       "      <td>female</td>\n",
       "      <td>group B</td>\n",
       "      <td>master's degree</td>\n",
       "      <td>standard</td>\n",
       "      <td>none</td>\n",
       "      <td>90</td>\n",
       "      <td>95</td>\n",
       "      <td>93</td>\n",
       "      <td>93</td>\n",
       "    </tr>\n",
       "  </tbody>\n",
       "</table>\n",
       "</div>"
      ],
      "text/plain": [
       "   gender race_ethnicity parental_level_of_education     lunch  \\\n",
       "0  female        group B           bachelor's degree  standard   \n",
       "1  female        group C                some college  standard   \n",
       "2  female        group B             master's degree  standard   \n",
       "\n",
       "  test_preparation_course  math_score  reading_score  writing_score  average  \n",
       "0                    none          72             72             74       73  \n",
       "1               completed          69             90             88       82  \n",
       "2                    none          90             95             93       93  "
      ]
     },
     "execution_count": 7,
     "metadata": {},
     "output_type": "execute_result"
    }
   ],
   "source": [
    "student = student.rename(columns={'race/ethnicity': 'race_ethnicity'})\n",
    "\n",
    "student.head(3)"
   ]
  },
  {
   "cell_type": "markdown",
   "id": "f2dda01e-2d59-467f-9668-d86af418c194",
   "metadata": {},
   "source": [
    "### Change column datatypes as appropriate"
   ]
  },
  {
   "cell_type": "code",
   "execution_count": 8,
   "id": "57b47b31-97b2-4452-8f3c-316748cf987d",
   "metadata": {},
   "outputs": [
    {
     "data": {
      "text/plain": [
       "gender                         category\n",
       "race_ethnicity                 category\n",
       "parental_level_of_education    category\n",
       "lunch                          category\n",
       "test_preparation_course        category\n",
       "math_score                        int64\n",
       "reading_score                     int64\n",
       "writing_score                     int64\n",
       "average                           int64\n",
       "dtype: object"
      ]
     },
     "execution_count": 8,
     "metadata": {},
     "output_type": "execute_result"
    }
   ],
   "source": [
    "student.gender = student.gender.astype('category') # To convert gender into categories\n",
    "student.race_ethnicity = student.race_ethnicity.astype('category') # To convert race_ethnicity into categories\n",
    "student.parental_level_of_education = student.parental_level_of_education.astype('category') # To convert parent_level_of_education into categories\n",
    "student.lunch = student.lunch.astype('category') # To convert lunch into categories\n",
    "student.test_preparation_course = student.test_preparation_course.astype('category') # To convert test_preparation_course into categories\n",
    "\n",
    "student.dtypes"
   ]
  },
  {
   "cell_type": "markdown",
   "id": "920fb01d-c625-4a92-9283-0e2176832068",
   "metadata": {},
   "source": [
    "### Let's analyse the quantitative variables in the dataset"
   ]
  },
  {
   "cell_type": "code",
   "execution_count": 9,
   "id": "9ef10d0c-60b6-4676-9e03-34100f1a248e",
   "metadata": {},
   "outputs": [
    {
     "data": {
      "text/html": [
       "<div>\n",
       "<style scoped>\n",
       "    .dataframe tbody tr th:only-of-type {\n",
       "        vertical-align: middle;\n",
       "    }\n",
       "\n",
       "    .dataframe tbody tr th {\n",
       "        vertical-align: top;\n",
       "    }\n",
       "\n",
       "    .dataframe thead th {\n",
       "        text-align: right;\n",
       "    }\n",
       "</style>\n",
       "<table border=\"1\" class=\"dataframe\">\n",
       "  <thead>\n",
       "    <tr style=\"text-align: right;\">\n",
       "      <th></th>\n",
       "      <th>math_score</th>\n",
       "      <th>reading_score</th>\n",
       "      <th>writing_score</th>\n",
       "      <th>average</th>\n",
       "    </tr>\n",
       "  </thead>\n",
       "  <tbody>\n",
       "    <tr>\n",
       "      <th>count</th>\n",
       "      <td>1000.00000</td>\n",
       "      <td>1000.00000</td>\n",
       "      <td>1000.00000</td>\n",
       "      <td>1000.00000</td>\n",
       "    </tr>\n",
       "    <tr>\n",
       "      <th>mean</th>\n",
       "      <td>66.08900</td>\n",
       "      <td>69.16900</td>\n",
       "      <td>68.05400</td>\n",
       "      <td>67.76200</td>\n",
       "    </tr>\n",
       "    <tr>\n",
       "      <th>std</th>\n",
       "      <td>15.16308</td>\n",
       "      <td>14.60019</td>\n",
       "      <td>15.19566</td>\n",
       "      <td>14.25835</td>\n",
       "    </tr>\n",
       "    <tr>\n",
       "      <th>min</th>\n",
       "      <td>0.00000</td>\n",
       "      <td>17.00000</td>\n",
       "      <td>10.00000</td>\n",
       "      <td>9.00000</td>\n",
       "    </tr>\n",
       "    <tr>\n",
       "      <th>25%</th>\n",
       "      <td>57.00000</td>\n",
       "      <td>59.00000</td>\n",
       "      <td>57.75000</td>\n",
       "      <td>58.00000</td>\n",
       "    </tr>\n",
       "    <tr>\n",
       "      <th>50%</th>\n",
       "      <td>66.00000</td>\n",
       "      <td>70.00000</td>\n",
       "      <td>69.00000</td>\n",
       "      <td>68.00000</td>\n",
       "    </tr>\n",
       "    <tr>\n",
       "      <th>75%</th>\n",
       "      <td>77.00000</td>\n",
       "      <td>79.00000</td>\n",
       "      <td>79.00000</td>\n",
       "      <td>78.00000</td>\n",
       "    </tr>\n",
       "    <tr>\n",
       "      <th>max</th>\n",
       "      <td>100.00000</td>\n",
       "      <td>100.00000</td>\n",
       "      <td>100.00000</td>\n",
       "      <td>100.00000</td>\n",
       "    </tr>\n",
       "  </tbody>\n",
       "</table>\n",
       "</div>"
      ],
      "text/plain": [
       "       math_score  reading_score  writing_score    average\n",
       "count  1000.00000     1000.00000     1000.00000 1000.00000\n",
       "mean     66.08900       69.16900       68.05400   67.76200\n",
       "std      15.16308       14.60019       15.19566   14.25835\n",
       "min       0.00000       17.00000       10.00000    9.00000\n",
       "25%      57.00000       59.00000       57.75000   58.00000\n",
       "50%      66.00000       70.00000       69.00000   68.00000\n",
       "75%      77.00000       79.00000       79.00000   78.00000\n",
       "max     100.00000      100.00000      100.00000  100.00000"
      ]
     },
     "execution_count": 9,
     "metadata": {},
     "output_type": "execute_result"
    }
   ],
   "source": [
    "student.describe()"
   ]
  },
  {
   "cell_type": "markdown",
   "id": "b46fbdc0-9ce1-4729-8e0e-d06c41f3777f",
   "metadata": {},
   "source": [
    "## Which gender performs better on the average?"
   ]
  },
  {
   "cell_type": "code",
   "execution_count": 10,
   "id": "e27eb580-6d9e-4c62-a7c7-83d9f5d7ef3a",
   "metadata": {},
   "outputs": [
    {
     "data": {
      "text/plain": [
       "female    518\n",
       "male      482\n",
       "Name: gender, dtype: int64"
      ]
     },
     "execution_count": 10,
     "metadata": {},
     "output_type": "execute_result"
    }
   ],
   "source": [
    "student['gender'].value_counts()"
   ]
  },
  {
   "cell_type": "code",
   "execution_count": 11,
   "id": "8b987120-c756-4388-95a0-8cd947adb20c",
   "metadata": {},
   "outputs": [
    {
     "data": {
      "image/png": "[encoded data removed]",
      "text/plain": [
       "<Figure size 720x360 with 1 Axes>"
      ]
     },
     "metadata": {
      "needs_background": "light"
     },
     "output_type": "display_data"
    }
   ],
   "source": [
    "plt.figure(figsize = (10,5)) # To resize the plot\n",
    "\n",
    "sns.barplot(x=\"gender\", y=\"average\", data=student, ci=None)\n",
    "plt.show()"
   ]
  },
  {
   "cell_type": "markdown",
   "id": "bdcfb08e-ae88-4e26-b7fe-f05dfae00c60",
   "metadata": {},
   "source": [
    "## Do test preparation courses and lunch improve on students performance?"
   ]
  },
  {
   "cell_type": "code",
   "execution_count": 12,
   "id": "8629893a-681c-4b57-91a0-40dc55523fb5",
   "metadata": {},
   "outputs": [
    {
     "data": {
      "image/png": "[encoded data removed]",
      "text/plain": [
       "<Figure size 720x576 with 1 Axes>"
      ]
     },
     "metadata": {
      "needs_background": "light"
     },
     "output_type": "display_data"
    }
   ],
   "source": [
    "plt.figure(figsize = (10,8)) # To resize the plot\n",
    "\n",
    "sns.barplot(x=\"test_preparation_course\", y=\"average\", hue=\"lunch\", data=student,  ci=None) \n",
    "plt.legend(loc='upper right', title='Lunch')\n",
    "plt.show() "
   ]
  },
  {
   "cell_type": "markdown",
   "id": "a9c8e325-c84e-4dea-be41-e6221272174e",
   "metadata": {},
   "source": [
    "## Which race or ethnicity perform best on average?"
   ]
  },
  {
   "cell_type": "code",
   "execution_count": 13,
   "id": "9ee737d0-540d-471e-ba93-b12b493d7992",
   "metadata": {},
   "outputs": [
    {
     "data": {
      "image/png": "[encoded data removed]",
      "text/plain": [
       "<Figure size 720x360 with 1 Axes>"
      ]
     },
     "metadata": {
      "needs_background": "light"
     },
     "output_type": "display_data"
    }
   ],
   "source": [
    "plt.figure(figsize = (10,5)) # To resize the plot\n",
    "\n",
    "sns.barplot(x=\"race_ethnicity\",y=\"average\", data=student,\n",
    "            ci=None)\n",
    "plt.show() "
   ]
  },
  {
   "cell_type": "markdown",
   "id": "2f3693b6-db0d-4bb9-bcd5-a642ded3290b",
   "metadata": {},
   "source": [
    "## Does parental level of education affect students performance?"
   ]
  },
  {
   "cell_type": "code",
   "execution_count": 14,
   "id": "5fee1bee-76df-422d-9e36-a6a0894cff34",
   "metadata": {},
   "outputs": [
    {
     "data": {
      "image/png": "[encoded data removed]",
      "text/plain": [
       "<Figure size 720x360 with 1 Axes>"
      ]
     },
     "metadata": {
      "needs_background": "light"
     },
     "output_type": "display_data"
    }
   ],
   "source": [
    "plt.figure(figsize = (10,5)) # To resize the plot\n",
    "\n",
    "sns.barplot(x=\"average\", y=\"parental_level_of_education\", data=student,\n",
    "            ci=None)\n",
    "plt.show() "
   ]
  },
  {
   "cell_type": "markdown",
   "id": "df9c2e03-9322-4164-bdb9-f575ae8694ff",
   "metadata": {
    "tags": []
   },
   "source": [
    "## Is there a relationship between math, reading and writing scores of students?"
   ]
  },
  {
   "cell_type": "code",
   "execution_count": 15,
   "id": "bb6cc4d7-a83b-4e76-8c68-4964230fc100",
   "metadata": {},
   "outputs": [
    {
     "data": {
      "text/html": [
       "<div>\n",
       "<style scoped>\n",
       "    .dataframe tbody tr th:only-of-type {\n",
       "        vertical-align: middle;\n",
       "    }\n",
       "\n",
       "    .dataframe tbody tr th {\n",
       "        vertical-align: top;\n",
       "    }\n",
       "\n",
       "    .dataframe thead th {\n",
       "        text-align: right;\n",
       "    }\n",
       "</style>\n",
       "<table border=\"1\" class=\"dataframe\">\n",
       "  <thead>\n",
       "    <tr style=\"text-align: right;\">\n",
       "      <th></th>\n",
       "      <th>gender</th>\n",
       "      <th>math_score</th>\n",
       "      <th>reading_score</th>\n",
       "      <th>writing_score</th>\n",
       "    </tr>\n",
       "  </thead>\n",
       "  <tbody>\n",
       "    <tr>\n",
       "      <th>994</th>\n",
       "      <td>male</td>\n",
       "      <td>63</td>\n",
       "      <td>63</td>\n",
       "      <td>62</td>\n",
       "    </tr>\n",
       "    <tr>\n",
       "      <th>995</th>\n",
       "      <td>female</td>\n",
       "      <td>88</td>\n",
       "      <td>99</td>\n",
       "      <td>95</td>\n",
       "    </tr>\n",
       "    <tr>\n",
       "      <th>996</th>\n",
       "      <td>male</td>\n",
       "      <td>62</td>\n",
       "      <td>55</td>\n",
       "      <td>55</td>\n",
       "    </tr>\n",
       "    <tr>\n",
       "      <th>997</th>\n",
       "      <td>female</td>\n",
       "      <td>59</td>\n",
       "      <td>71</td>\n",
       "      <td>65</td>\n",
       "    </tr>\n",
       "    <tr>\n",
       "      <th>998</th>\n",
       "      <td>female</td>\n",
       "      <td>68</td>\n",
       "      <td>78</td>\n",
       "      <td>77</td>\n",
       "    </tr>\n",
       "    <tr>\n",
       "      <th>999</th>\n",
       "      <td>female</td>\n",
       "      <td>77</td>\n",
       "      <td>86</td>\n",
       "      <td>86</td>\n",
       "    </tr>\n",
       "  </tbody>\n",
       "</table>\n",
       "</div>"
      ],
      "text/plain": [
       "     gender  math_score  reading_score  writing_score\n",
       "994    male          63             63             62\n",
       "995  female          88             99             95\n",
       "996    male          62             55             55\n",
       "997  female          59             71             65\n",
       "998  female          68             78             77\n",
       "999  female          77             86             86"
      ]
     },
     "execution_count": 15,
     "metadata": {},
     "output_type": "execute_result"
    },
    {
     "data": {
      "image/png": "[encoded data removed]",
      "text/plain": [
       "<Figure size 432x288 with 2 Axes>"
      ]
     },
     "metadata": {
      "needs_background": "light"
     },
     "output_type": "display_data"
    }
   ],
   "source": [
    "correlation = student.corr() # creating a 2-D Matrix with correlation plots\n",
    "sns.heatmap(correlation, annot=True,vmin=-1, vmax=1);\n",
    "\n",
    "student_score = student[['gender','math_score', 'reading_score','writing_score']]\n",
    "student_score.tail(6)"
   ]
  },
  {
   "cell_type": "markdown",
   "id": "6b5f563e-a4d3-489d-afca-9e9c5a7dbc09",
   "metadata": {},
   "source": [
    "## What subject do students perform best in? "
   ]
  },
  {
   "cell_type": "code",
   "execution_count": 16,
   "id": "0cca8b68-4624-45bf-afd4-cc60400a7afc",
   "metadata": {},
   "outputs": [
    {
     "data": {
      "text/plain": [
       "math_score       66089\n",
       "reading_score    69169\n",
       "writing_score    68054\n",
       "average          67762\n",
       "dtype: int64"
      ]
     },
     "execution_count": 16,
     "metadata": {},
     "output_type": "execute_result"
    }
   ],
   "source": [
    "student.sum(axis = 0, skipna = True)"
   ]
  },
  {
   "cell_type": "code",
   "execution_count": 17,
   "id": "d91ebf4f-0827-48ef-90f2-bea40202732d",
   "metadata": {},
   "outputs": [
    {
     "data": {
      "text/html": [
       "<div>\n",
       "<style scoped>\n",
       "    .dataframe tbody tr th:only-of-type {\n",
       "        vertical-align: middle;\n",
       "    }\n",
       "\n",
       "    .dataframe tbody tr th {\n",
       "        vertical-align: top;\n",
       "    }\n",
       "\n",
       "    .dataframe thead th {\n",
       "        text-align: right;\n",
       "    }\n",
       "</style>\n",
       "<table border=\"1\" class=\"dataframe\">\n",
       "  <thead>\n",
       "    <tr style=\"text-align: right;\">\n",
       "      <th></th>\n",
       "      <th>math_score</th>\n",
       "      <th>reading_score</th>\n",
       "      <th>writing_score</th>\n",
       "    </tr>\n",
       "  </thead>\n",
       "  <tbody>\n",
       "    <tr>\n",
       "      <th>0</th>\n",
       "      <td>72</td>\n",
       "      <td>72</td>\n",
       "      <td>74</td>\n",
       "    </tr>\n",
       "    <tr>\n",
       "      <th>1</th>\n",
       "      <td>69</td>\n",
       "      <td>90</td>\n",
       "      <td>88</td>\n",
       "    </tr>\n",
       "    <tr>\n",
       "      <th>2</th>\n",
       "      <td>90</td>\n",
       "      <td>95</td>\n",
       "      <td>93</td>\n",
       "    </tr>\n",
       "    <tr>\n",
       "      <th>3</th>\n",
       "      <td>47</td>\n",
       "      <td>57</td>\n",
       "      <td>44</td>\n",
       "    </tr>\n",
       "    <tr>\n",
       "      <th>4</th>\n",
       "      <td>76</td>\n",
       "      <td>78</td>\n",
       "      <td>75</td>\n",
       "    </tr>\n",
       "    <tr>\n",
       "      <th>...</th>\n",
       "      <td>...</td>\n",
       "      <td>...</td>\n",
       "      <td>...</td>\n",
       "    </tr>\n",
       "    <tr>\n",
       "      <th>995</th>\n",
       "      <td>88</td>\n",
       "      <td>99</td>\n",
       "      <td>95</td>\n",
       "    </tr>\n",
       "    <tr>\n",
       "      <th>996</th>\n",
       "      <td>62</td>\n",
       "      <td>55</td>\n",
       "      <td>55</td>\n",
       "    </tr>\n",
       "    <tr>\n",
       "      <th>997</th>\n",
       "      <td>59</td>\n",
       "      <td>71</td>\n",
       "      <td>65</td>\n",
       "    </tr>\n",
       "    <tr>\n",
       "      <th>998</th>\n",
       "      <td>68</td>\n",
       "      <td>78</td>\n",
       "      <td>77</td>\n",
       "    </tr>\n",
       "    <tr>\n",
       "      <th>999</th>\n",
       "      <td>77</td>\n",
       "      <td>86</td>\n",
       "      <td>86</td>\n",
       "    </tr>\n",
       "  </tbody>\n",
       "</table>\n",
       "<p>1000 rows × 3 columns</p>\n",
       "</div>"
      ],
      "text/plain": [
       "     math_score  reading_score  writing_score\n",
       "0            72             72             74\n",
       "1            69             90             88\n",
       "2            90             95             93\n",
       "3            47             57             44\n",
       "4            76             78             75\n",
       "..          ...            ...            ...\n",
       "995          88             99             95\n",
       "996          62             55             55\n",
       "997          59             71             65\n",
       "998          68             78             77\n",
       "999          77             86             86\n",
       "\n",
       "[1000 rows x 3 columns]"
      ]
     },
     "metadata": {},
     "output_type": "display_data"
    }
   ],
   "source": [
    "student_score = student[['math_score', 'reading_score','writing_score']]\n",
    "display(student_score)"
   ]
  },
  {
   "cell_type": "markdown",
   "id": "12c15619-af68-4f75-b241-aba4025ded21",
   "metadata": {},
   "source": [
    "# RECOMMENDATION \n",
    "### To improve Students performance generally, the following measures should be put in place\n",
    "* Standard Lunch should be given to students\n",
    "* Test preparation course must be completed by all students\n",
    "* Parents and guardians should be oriented ocassionally on their role in student performance.\n",
    "\n",
    "Aside: For future data capture, equal records of male and female data should be maintained.\n"
   ]
  }
 ],
 "metadata": {
  "kernelspec": {
   "display_name": "Python 3",
   "language": "python",
   "name": "python3"
  },
  "language_info": {
   "codemirror_mode": {
    "name": "ipython",
    "version": 3
   },
   "file_extension": ".py",
   "mimetype": "text/x-python",
   "name": "python",
   "nbconvert_exporter": "python",
   "pygments_lexer": "ipython3",
   "version": "3.8.8"
  }
 },
 "nbformat": 4,
 "nbformat_minor": 5
}
