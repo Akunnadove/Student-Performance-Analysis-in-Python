{
 "cells": [
  {
   "cell_type": "markdown",
   "id": "f6677274-59a8-4bc6-95ff-bb14c7dfb696",
   "metadata": {},
   "source": [
    "# Objective:\n",
    "To visualise factors that improve the performance of students\n",
    "\n",
    "# Key questions to be answered:\n",
    "Do test preparation courses and lunch improve on students performance?\n",
    "Which gender performs better on the average?\n",
    "Which race or ethnicity perform best on average?\n",
    "Does parental level of education affect students performance?\n",
    "Is there a relationship between math, reading and writing scores of students?\n",
    "What subject do students perform best in?\n",
    "# Dataset:\n",
    "* gender: Female and male genders\n",
    "* race/ethnicity: Contains different groups of race\n",
    "* parental level of education: Highest level of eduation attained by parents\n",
    "* lunch: Type of lunch taken by student\n",
    "* test preparation: Shows if student completed the test preparation or not\n",
    "* math_score: mathematics student score\n",
    "* reading_score: reading student score\n",
    "* writing_score: writing student score\n",
    "* average: average of maths, reading and writing scores"
   ]
  },
  {
   "cell_type": "markdown",
   "id": "5c9784a4-bfc0-4d8f-9cc2-122bc7386293",
   "metadata": {},
   "source": [
    "### Import the necessary packages - pandas, numpy, seaborn, matplotlib.pyplot"
   ]
  },
  {
   "cell_type": "code",
   "execution_count": 1,
   "id": "1eacb8ca-5276-40de-aeca-119b3b6cff60",
   "metadata": {
    "tags": []
   },
   "outputs": [],
   "source": [
    "import pandas as pd\n",
    "import numpy as np\n",
    "import seaborn as sns\n",
    "import matplotlib.pyplot as plt\n",
    "%matplotlib inline\n",
    "import warnings\n",
    "pd.set_option('display.float_format', lambda x: '%.5f' % x) # To supress numerical display in scientific notations"
   ]
  },
  {
   "cell_type": "markdown",
   "id": "434b8944-7f4d-423d-bb75-acf319f3b463",
   "metadata": {},
   "source": [
    "### Import dataset"
   ]
  },
  {
   "cell_type": "code",
   "execution_count": 2,
   "id": "aae5b6bc-ae7a-4bdf-aa1d-bb4af28dba7e",
   "metadata": {},
   "outputs": [
    {
     "ename": "FileNotFoundError",
     "evalue": "[Errno 2] No such file or directory: 'C:\\\\Users\\\\Akunna Anyamkpa\\\\Downloads\\\\StudentsPerformance - Copy.csv'",
     "output_type": "error",
     "traceback": [
      "\u001b[1;31m---------------------------------------------------------------------------\u001b[0m",
      "\u001b[1;31mFileNotFoundError\u001b[0m                         Traceback (most recent call last)",
      "\u001b[1;32m<ipython-input-2-5d2b3b397428>\u001b[0m in \u001b[0;36m<module>\u001b[1;34m\u001b[0m\n\u001b[1;32m----> 1\u001b[1;33m \u001b[0mstudent\u001b[0m \u001b[1;33m=\u001b[0m \u001b[0mpd\u001b[0m\u001b[1;33m.\u001b[0m\u001b[0mread_csv\u001b[0m\u001b[1;33m(\u001b[0m\u001b[1;34mr\"C:\\Users\\Akunna Anyamkpa\\Downloads\\StudentsPerformance - Copy.csv\"\u001b[0m\u001b[1;33m)\u001b[0m\u001b[1;33m\u001b[0m\u001b[1;33m\u001b[0m\u001b[0m\n\u001b[0m",
      "\u001b[1;32m~\\anaconda3\\lib\\site-packages\\pandas\\io\\parsers.py\u001b[0m in \u001b[0;36mread_csv\u001b[1;34m(filepath_or_buffer, sep, delimiter, header, names, index_col, usecols, squeeze, prefix, mangle_dupe_cols, dtype, engine, converters, true_values, false_values, skipinitialspace, skiprows, skipfooter, nrows, na_values, keep_default_na, na_filter, verbose, skip_blank_lines, parse_dates, infer_datetime_format, keep_date_col, date_parser, dayfirst, cache_dates, iterator, chunksize, compression, thousands, decimal, lineterminator, quotechar, quoting, doublequote, escapechar, comment, encoding, dialect, error_bad_lines, warn_bad_lines, delim_whitespace, low_memory, memory_map, float_precision, storage_options)\u001b[0m\n\u001b[0;32m    608\u001b[0m     \u001b[0mkwds\u001b[0m\u001b[1;33m.\u001b[0m\u001b[0mupdate\u001b[0m\u001b[1;33m(\u001b[0m\u001b[0mkwds_defaults\u001b[0m\u001b[1;33m)\u001b[0m\u001b[1;33m\u001b[0m\u001b[1;33m\u001b[0m\u001b[0m\n\u001b[0;32m    609\u001b[0m \u001b[1;33m\u001b[0m\u001b[0m\n\u001b[1;32m--> 610\u001b[1;33m     \u001b[1;32mreturn\u001b[0m \u001b[0m_read\u001b[0m\u001b[1;33m(\u001b[0m\u001b[0mfilepath_or_buffer\u001b[0m\u001b[1;33m,\u001b[0m \u001b[0mkwds\u001b[0m\u001b[1;33m)\u001b[0m\u001b[1;33m\u001b[0m\u001b[1;33m\u001b[0m\u001b[0m\n\u001b[0m\u001b[0;32m    611\u001b[0m \u001b[1;33m\u001b[0m\u001b[0m\n\u001b[0;32m    612\u001b[0m \u001b[1;33m\u001b[0m\u001b[0m\n",
      "\u001b[1;32m~\\anaconda3\\lib\\site-packages\\pandas\\io\\parsers.py\u001b[0m in \u001b[0;36m_read\u001b[1;34m(filepath_or_buffer, kwds)\u001b[0m\n\u001b[0;32m    460\u001b[0m \u001b[1;33m\u001b[0m\u001b[0m\n\u001b[0;32m    461\u001b[0m     \u001b[1;31m# Create the parser.\u001b[0m\u001b[1;33m\u001b[0m\u001b[1;33m\u001b[0m\u001b[1;33m\u001b[0m\u001b[0m\n\u001b[1;32m--> 462\u001b[1;33m     \u001b[0mparser\u001b[0m \u001b[1;33m=\u001b[0m \u001b[0mTextFileReader\u001b[0m\u001b[1;33m(\u001b[0m\u001b[0mfilepath_or_buffer\u001b[0m\u001b[1;33m,\u001b[0m \u001b[1;33m**\u001b[0m\u001b[0mkwds\u001b[0m\u001b[1;33m)\u001b[0m\u001b[1;33m\u001b[0m\u001b[1;33m\u001b[0m\u001b[0m\n\u001b[0m\u001b[0;32m    463\u001b[0m \u001b[1;33m\u001b[0m\u001b[0m\n\u001b[0;32m    464\u001b[0m     \u001b[1;32mif\u001b[0m \u001b[0mchunksize\u001b[0m \u001b[1;32mor\u001b[0m \u001b[0miterator\u001b[0m\u001b[1;33m:\u001b[0m\u001b[1;33m\u001b[0m\u001b[1;33m\u001b[0m\u001b[0m\n",
      "\u001b[1;32m~\\anaconda3\\lib\\site-packages\\pandas\\io\\parsers.py\u001b[0m in \u001b[0;36m__init__\u001b[1;34m(self, f, engine, **kwds)\u001b[0m\n\u001b[0;32m    817\u001b[0m             \u001b[0mself\u001b[0m\u001b[1;33m.\u001b[0m\u001b[0moptions\u001b[0m\u001b[1;33m[\u001b[0m\u001b[1;34m\"has_index_names\"\u001b[0m\u001b[1;33m]\u001b[0m \u001b[1;33m=\u001b[0m \u001b[0mkwds\u001b[0m\u001b[1;33m[\u001b[0m\u001b[1;34m\"has_index_names\"\u001b[0m\u001b[1;33m]\u001b[0m\u001b[1;33m\u001b[0m\u001b[1;33m\u001b[0m\u001b[0m\n\u001b[0;32m    818\u001b[0m \u001b[1;33m\u001b[0m\u001b[0m\n\u001b[1;32m--> 819\u001b[1;33m         \u001b[0mself\u001b[0m\u001b[1;33m.\u001b[0m\u001b[0m_engine\u001b[0m \u001b[1;33m=\u001b[0m \u001b[0mself\u001b[0m\u001b[1;33m.\u001b[0m\u001b[0m_make_engine\u001b[0m\u001b[1;33m(\u001b[0m\u001b[0mself\u001b[0m\u001b[1;33m.\u001b[0m\u001b[0mengine\u001b[0m\u001b[1;33m)\u001b[0m\u001b[1;33m\u001b[0m\u001b[1;33m\u001b[0m\u001b[0m\n\u001b[0m\u001b[0;32m    820\u001b[0m \u001b[1;33m\u001b[0m\u001b[0m\n\u001b[0;32m    821\u001b[0m     \u001b[1;32mdef\u001b[0m \u001b[0mclose\u001b[0m\u001b[1;33m(\u001b[0m\u001b[0mself\u001b[0m\u001b[1;33m)\u001b[0m\u001b[1;33m:\u001b[0m\u001b[1;33m\u001b[0m\u001b[1;33m\u001b[0m\u001b[0m\n",
      "\u001b[1;32m~\\anaconda3\\lib\\site-packages\\pandas\\io\\parsers.py\u001b[0m in \u001b[0;36m_make_engine\u001b[1;34m(self, engine)\u001b[0m\n\u001b[0;32m   1048\u001b[0m             )\n\u001b[0;32m   1049\u001b[0m         \u001b[1;31m# error: Too many arguments for \"ParserBase\"\u001b[0m\u001b[1;33m\u001b[0m\u001b[1;33m\u001b[0m\u001b[1;33m\u001b[0m\u001b[0m\n\u001b[1;32m-> 1050\u001b[1;33m         \u001b[1;32mreturn\u001b[0m \u001b[0mmapping\u001b[0m\u001b[1;33m[\u001b[0m\u001b[0mengine\u001b[0m\u001b[1;33m]\u001b[0m\u001b[1;33m(\u001b[0m\u001b[0mself\u001b[0m\u001b[1;33m.\u001b[0m\u001b[0mf\u001b[0m\u001b[1;33m,\u001b[0m \u001b[1;33m**\u001b[0m\u001b[0mself\u001b[0m\u001b[1;33m.\u001b[0m\u001b[0moptions\u001b[0m\u001b[1;33m)\u001b[0m  \u001b[1;31m# type: ignore[call-arg]\u001b[0m\u001b[1;33m\u001b[0m\u001b[1;33m\u001b[0m\u001b[0m\n\u001b[0m\u001b[0;32m   1051\u001b[0m \u001b[1;33m\u001b[0m\u001b[0m\n\u001b[0;32m   1052\u001b[0m     \u001b[1;32mdef\u001b[0m \u001b[0m_failover_to_python\u001b[0m\u001b[1;33m(\u001b[0m\u001b[0mself\u001b[0m\u001b[1;33m)\u001b[0m\u001b[1;33m:\u001b[0m\u001b[1;33m\u001b[0m\u001b[1;33m\u001b[0m\u001b[0m\n",
      "\u001b[1;32m~\\anaconda3\\lib\\site-packages\\pandas\\io\\parsers.py\u001b[0m in \u001b[0;36m__init__\u001b[1;34m(self, src, **kwds)\u001b[0m\n\u001b[0;32m   1865\u001b[0m \u001b[1;33m\u001b[0m\u001b[0m\n\u001b[0;32m   1866\u001b[0m         \u001b[1;31m# open handles\u001b[0m\u001b[1;33m\u001b[0m\u001b[1;33m\u001b[0m\u001b[1;33m\u001b[0m\u001b[0m\n\u001b[1;32m-> 1867\u001b[1;33m         \u001b[0mself\u001b[0m\u001b[1;33m.\u001b[0m\u001b[0m_open_handles\u001b[0m\u001b[1;33m(\u001b[0m\u001b[0msrc\u001b[0m\u001b[1;33m,\u001b[0m \u001b[0mkwds\u001b[0m\u001b[1;33m)\u001b[0m\u001b[1;33m\u001b[0m\u001b[1;33m\u001b[0m\u001b[0m\n\u001b[0m\u001b[0;32m   1868\u001b[0m         \u001b[1;32massert\u001b[0m \u001b[0mself\u001b[0m\u001b[1;33m.\u001b[0m\u001b[0mhandles\u001b[0m \u001b[1;32mis\u001b[0m \u001b[1;32mnot\u001b[0m \u001b[1;32mNone\u001b[0m\u001b[1;33m\u001b[0m\u001b[1;33m\u001b[0m\u001b[0m\n\u001b[0;32m   1869\u001b[0m         \u001b[1;32mfor\u001b[0m \u001b[0mkey\u001b[0m \u001b[1;32min\u001b[0m \u001b[1;33m(\u001b[0m\u001b[1;34m\"storage_options\"\u001b[0m\u001b[1;33m,\u001b[0m \u001b[1;34m\"encoding\"\u001b[0m\u001b[1;33m,\u001b[0m \u001b[1;34m\"memory_map\"\u001b[0m\u001b[1;33m,\u001b[0m \u001b[1;34m\"compression\"\u001b[0m\u001b[1;33m)\u001b[0m\u001b[1;33m:\u001b[0m\u001b[1;33m\u001b[0m\u001b[1;33m\u001b[0m\u001b[0m\n",
      "\u001b[1;32m~\\anaconda3\\lib\\site-packages\\pandas\\io\\parsers.py\u001b[0m in \u001b[0;36m_open_handles\u001b[1;34m(self, src, kwds)\u001b[0m\n\u001b[0;32m   1360\u001b[0m         \u001b[0mLet\u001b[0m \u001b[0mthe\u001b[0m \u001b[0mreaders\u001b[0m \u001b[0mopen\u001b[0m \u001b[0mIOHanldes\u001b[0m \u001b[0mafter\u001b[0m \u001b[0mthey\u001b[0m \u001b[0mare\u001b[0m \u001b[0mdone\u001b[0m \u001b[1;32mwith\u001b[0m \u001b[0mtheir\u001b[0m \u001b[0mpotential\u001b[0m \u001b[0mraises\u001b[0m\u001b[1;33m.\u001b[0m\u001b[1;33m\u001b[0m\u001b[1;33m\u001b[0m\u001b[0m\n\u001b[0;32m   1361\u001b[0m         \"\"\"\n\u001b[1;32m-> 1362\u001b[1;33m         self.handles = get_handle(\n\u001b[0m\u001b[0;32m   1363\u001b[0m             \u001b[0msrc\u001b[0m\u001b[1;33m,\u001b[0m\u001b[1;33m\u001b[0m\u001b[1;33m\u001b[0m\u001b[0m\n\u001b[0;32m   1364\u001b[0m             \u001b[1;34m\"r\"\u001b[0m\u001b[1;33m,\u001b[0m\u001b[1;33m\u001b[0m\u001b[1;33m\u001b[0m\u001b[0m\n",
      "\u001b[1;32m~\\anaconda3\\lib\\site-packages\\pandas\\io\\common.py\u001b[0m in \u001b[0;36mget_handle\u001b[1;34m(path_or_buf, mode, encoding, compression, memory_map, is_text, errors, storage_options)\u001b[0m\n\u001b[0;32m    640\u001b[0m                 \u001b[0merrors\u001b[0m \u001b[1;33m=\u001b[0m \u001b[1;34m\"replace\"\u001b[0m\u001b[1;33m\u001b[0m\u001b[1;33m\u001b[0m\u001b[0m\n\u001b[0;32m    641\u001b[0m             \u001b[1;31m# Encoding\u001b[0m\u001b[1;33m\u001b[0m\u001b[1;33m\u001b[0m\u001b[1;33m\u001b[0m\u001b[0m\n\u001b[1;32m--> 642\u001b[1;33m             handle = open(\n\u001b[0m\u001b[0;32m    643\u001b[0m                 \u001b[0mhandle\u001b[0m\u001b[1;33m,\u001b[0m\u001b[1;33m\u001b[0m\u001b[1;33m\u001b[0m\u001b[0m\n\u001b[0;32m    644\u001b[0m                 \u001b[0mioargs\u001b[0m\u001b[1;33m.\u001b[0m\u001b[0mmode\u001b[0m\u001b[1;33m,\u001b[0m\u001b[1;33m\u001b[0m\u001b[1;33m\u001b[0m\u001b[0m\n",
      "\u001b[1;31mFileNotFoundError\u001b[0m: [Errno 2] No such file or directory: 'C:\\\\Users\\\\Akunna Anyamkpa\\\\Downloads\\\\StudentsPerformance - Copy.csv'"
     ]
    }
   ],
   "source": [
    "student = pd.read_csv(r\"C:\\Users\\Akunna Anyamkpa\\Downloads\\StudentsPerformance - Copy.csv\")"
   ]
  },
  {
   "cell_type": "markdown",
   "id": "ce98a125-8e97-45a5-97d6-ff0e1fd69b83",
   "metadata": {},
   "source": [
    "### View the first few rows of the dataset"
   ]
  },
  {
   "cell_type": "code",
   "execution_count": null,
   "id": "7990cf52-2386-4086-be0b-4464a0573c02",
   "metadata": {
    "tags": []
   },
   "outputs": [],
   "source": [
    "student.head(10)"
   ]
  },
  {
   "cell_type": "markdown",
   "id": "d05d1581-2e2a-4583-b35b-8961c91d47ac",
   "metadata": {},
   "source": [
    "### Check the shape of the dataset"
   ]
  },
  {
   "cell_type": "code",
   "execution_count": null,
   "id": "d5c6d0f7-c1c6-4f15-be41-9f3338be7c84",
   "metadata": {},
   "outputs": [],
   "source": [
    "student.shape"
   ]
  },
  {
   "cell_type": "markdown",
   "id": "75e24f37-7955-4519-8f48-d5147c45eca5",
   "metadata": {},
   "source": [
    "### Check the datatypes of the dataset to ascertain that the data is read in properly"
   ]
  },
  {
   "cell_type": "code",
   "execution_count": null,
   "id": "917cb20e-7d06-4c4f-ba56-2fb61022d5e0",
   "metadata": {},
   "outputs": [],
   "source": [
    "student.dtypes"
   ]
  },
  {
   "cell_type": "markdown",
   "id": "6a1607af-0878-4081-ba04-f3e381af8846",
   "metadata": {},
   "source": [
    "### Remove all spaces in the various column names to aid analysis "
   ]
  },
  {
   "cell_type": "code",
   "execution_count": null,
   "id": "91661995-1b30-4da9-967c-595c1744442f",
   "metadata": {},
   "outputs": [],
   "source": [
    "student.columns = student.columns.str.replace(' ','_')"
   ]
  },
  {
   "cell_type": "markdown",
   "id": "a09639b9-ec9f-4f34-81ff-f21bb65b4706",
   "metadata": {},
   "source": [
    "### Rename column names that contain symbols"
   ]
  },
  {
   "cell_type": "code",
   "execution_count": null,
   "id": "308e9cbf-b519-42b8-8abd-e27f4c0fd717",
   "metadata": {},
   "outputs": [],
   "source": [
    "student = student.rename(columns={'race/ethnicity': 'race_ethnicity'})\n",
    "\n",
    "student.head(3)"
   ]
  },
  {
   "cell_type": "markdown",
   "id": "f2dda01e-2d59-467f-9668-d86af418c194",
   "metadata": {},
   "source": [
    "### Change column datatypes as appropriate"
   ]
  },
  {
   "cell_type": "code",
   "execution_count": null,
   "id": "57b47b31-97b2-4452-8f3c-316748cf987d",
   "metadata": {},
   "outputs": [],
   "source": [
    "student.gender = student.gender.astype('category') # To convert gender into categories\n",
    "student.race_ethnicity = student.race_ethnicity.astype('category') # To convert race_ethnicity into categories\n",
    "student.parental_level_of_education = student.parental_level_of_education.astype('category') # To convert parent_level_of_education into categories\n",
    "student.lunch = student.lunch.astype('category') # To convert lunch into categories\n",
    "student.test_preparation_course = student.test_preparation_course.astype('category') # To convert test_preparation_course into categories\n",
    "\n",
    "student.dtypes"
   ]
  },
  {
   "cell_type": "markdown",
   "id": "920fb01d-c625-4a92-9283-0e2176832068",
   "metadata": {},
   "source": [
    "### Let's analyse the quantitative variables in the dataset"
   ]
  },
  {
   "cell_type": "code",
   "execution_count": null,
   "id": "9ef10d0c-60b6-4676-9e03-34100f1a248e",
   "metadata": {},
   "outputs": [],
   "source": [
    "student.describe()"
   ]
  },
  {
   "cell_type": "markdown",
   "id": "b46fbdc0-9ce1-4729-8e0e-d06c41f3777f",
   "metadata": {},
   "source": [
    "## Which gender performs better on the average?"
   ]
  },
  {
   "cell_type": "code",
   "execution_count": null,
   "id": "e27eb580-6d9e-4c62-a7c7-83d9f5d7ef3a",
   "metadata": {},
   "outputs": [],
   "source": [
    "student['gender'].value_counts()"
   ]
  },
  {
   "cell_type": "code",
   "execution_count": null,
   "id": "8b987120-c756-4388-95a0-8cd947adb20c",
   "metadata": {},
   "outputs": [],
   "source": [
    "plt.figure(figsize = (10,5)) # To resize the plot\n",
    "\n",
    "sns.barplot(x=\"gender\", y=\"average\", data=student, ci=None)\n",
    "plt.show()"
   ]
  },
  {
   "cell_type": "markdown",
   "id": "bdcfb08e-ae88-4e26-b7fe-f05dfae00c60",
   "metadata": {},
   "source": [
    "## Do test preparation courses and lunch improve on students performance?"
   ]
  },
  {
   "cell_type": "code",
   "execution_count": null,
   "id": "8629893a-681c-4b57-91a0-40dc55523fb5",
   "metadata": {},
   "outputs": [],
   "source": [
    "plt.figure(figsize = (10,8)) # To resize the plot\n",
    "\n",
    "sns.barplot(x=\"test_preparation_course\", y=\"average\", hue=\"lunch\", data=student,  ci=None) \n",
    "plt.legend(loc='upper right', title='Lunch')\n",
    "plt.show() "
   ]
  },
  {
   "cell_type": "markdown",
   "id": "a9c8e325-c84e-4dea-be41-e6221272174e",
   "metadata": {},
   "source": [
    "## Which race or ethnicity perform best on average?"
   ]
  },
  {
   "cell_type": "code",
   "execution_count": null,
   "id": "9ee737d0-540d-471e-ba93-b12b493d7992",
   "metadata": {},
   "outputs": [],
   "source": [
    "plt.figure(figsize = (10,5)) # To resize the plot\n",
    "\n",
    "sns.barplot(x=\"race_ethnicity\",y=\"average\", data=student,\n",
    "            ci=None)\n",
    "plt.show() "
   ]
  },
  {
   "cell_type": "markdown",
   "id": "2f3693b6-db0d-4bb9-bcd5-a642ded3290b",
   "metadata": {},
   "source": [
    "## Does parental level of education affect students performance?"
   ]
  },
  {
   "cell_type": "code",
   "execution_count": null,
   "id": "5fee1bee-76df-422d-9e36-a6a0894cff34",
   "metadata": {},
   "outputs": [],
   "source": [
    "plt.figure(figsize = (10,5)) # To resize the plot\n",
    "\n",
    "sns.barplot(x=\"average\", y=\"parental_level_of_education\", data=student,\n",
    "            ci=None)\n",
    "plt.show() "
   ]
  },
  {
   "cell_type": "markdown",
   "id": "df9c2e03-9322-4164-bdb9-f575ae8694ff",
   "metadata": {
    "tags": []
   },
   "source": [
    "## Is there a relationship between math, reading and writing scores of students?"
   ]
  },
  {
   "cell_type": "code",
   "execution_count": null,
   "id": "bb6cc4d7-a83b-4e76-8c68-4964230fc100",
   "metadata": {},
   "outputs": [],
   "source": [
    "correlation = student.corr() # creating a 2-D Matrix with correlation plots\n",
    "sns.heatmap(correlation, annot=True,vmin=-1, vmax=1);\n",
    "\n",
    "student_score = student[['gender','math_score', 'reading_score','writing_score']]\n",
    "student_score.tail(6)"
   ]
  },
  {
   "cell_type": "markdown",
   "id": "6b5f563e-a4d3-489d-afca-9e9c5a7dbc09",
   "metadata": {},
   "source": [
    "## What subject do students perform best in? "
   ]
  },
  {
   "cell_type": "code",
   "execution_count": null,
   "id": "0cca8b68-4624-45bf-afd4-cc60400a7afc",
   "metadata": {},
   "outputs": [],
   "source": [
    "student.sum(axis = 0, skipna = True)"
   ]
  },
  {
   "cell_type": "code",
   "execution_count": null,
   "id": "d91ebf4f-0827-48ef-90f2-bea40202732d",
   "metadata": {},
   "outputs": [],
   "source": [
    "student_score = student[['math_score', 'reading_score','writing_score']]\n",
    "display(student_score)"
   ]
  },
  {
   "cell_type": "markdown",
   "id": "1aeb5f03-ca72-4f30-89d9-cc6f448c9dcd",
   "metadata": {},
   "source": [
    "# RECOMMENDATION "
   ]
  },
  {
   "cell_type": "markdown",
   "id": "12c15619-af68-4f75-b241-aba4025ded21",
   "metadata": {},
   "source": [
    "### To improve Students performance generally, the following measures should be put in place\n",
    "### - Standard Lunch should be given to students\n",
    "### - Test preparation course must be completed by all students\n",
    "### - Parents and guardians should be oriented ocassionally on their role in student performance.\n",
    "\n",
    "#### Aside: For future data capture, equal records of male and female data should be maintained.\n"
   ]
  },
  {
   "cell_type": "code",
   "execution_count": null,
   "id": "22a6202e-4374-45a8-9868-6d96eed2fcc4",
   "metadata": {},
   "outputs": [],
   "source": []
  }
 ],
 "metadata": {
  "kernelspec": {
   "display_name": "Python 3",
   "language": "python",
   "name": "python3"
  },
  "language_info": {
   "codemirror_mode": {
    "name": "ipython",
    "version": 3
   },
   "file_extension": ".py",
   "mimetype": "text/x-python",
   "name": "python",
   "nbconvert_exporter": "python",
   "pygments_lexer": "ipython3",
   "version": "3.8.8"
  }
 },
 "nbformat": 4,
 "nbformat_minor": 5
}
